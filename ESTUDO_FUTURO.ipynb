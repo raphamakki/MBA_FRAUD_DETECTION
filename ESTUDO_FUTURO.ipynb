{
 "cells": [
  {
   "cell_type": "code",
   "execution_count": 1,
   "metadata": {
    "_cell_guid": "b1076dfc-b9ad-4769-8c92-a6c4dae69d19",
    "_uuid": "8f2839f25d086af736a60e9eeb907d3b93b6e0e5",
    "execution": {
     "iopub.execute_input": "2020-12-23T00:28:12.922741Z",
     "iopub.status.busy": "2020-12-23T00:28:12.922007Z",
     "iopub.status.idle": "2020-12-23T00:28:12.935146Z",
     "shell.execute_reply": "2020-12-23T00:28:12.933985Z"
    },
    "papermill": {
     "duration": 0.039711,
     "end_time": "2020-12-23T00:28:12.935344",
     "exception": false,
     "start_time": "2020-12-23T00:28:12.895633",
     "status": "completed"
    },
    "tags": []
   },
   "outputs": [
    {
     "name": "stdout",
     "output_type": "stream",
     "text": [
      "/kaggle/input/creditcardfraud/creditcard.csv\n"
     ]
    }
   ],
   "source": [
    "# This Python 3 environment comes with many helpful analytics libraries installed\n",
    "# It is defined by the kaggle/python Docker image: https://github.com/kaggle/docker-python\n",
    "# For example, here's several helpful packages to load\n",
    "\n",
    "import numpy as np # linear algebra\n",
    "import pandas as pd # data processing, CSV file I/O (e.g. pd.read_csv)\n",
    "\n",
    "# Input data files are available in the read-only \"../input/\" directory\n",
    "# For example, running this (by clicking run or pressing Shift+Enter) will list all files under the input directory\n",
    "\n",
    "import os\n",
    "for dirname, _, filenames in os.walk('/kaggle/input'):\n",
    "    for filename in filenames:\n",
    "        print(os.path.join(dirname, filename))\n",
    "\n",
    "# You can write up to 20GB to the current directory (/kaggle/working/) that gets preserved as output when you create a version using \"Save & Run All\" \n",
    "# You can also write temporary files to /kaggle/temp/, but they won't be saved outside of the current session"
   ]
  },
  {
   "cell_type": "code",
   "execution_count": 2,
   "metadata": {
    "execution": {
     "iopub.execute_input": "2020-12-23T00:28:12.977314Z",
     "iopub.status.busy": "2020-12-23T00:28:12.976383Z",
     "iopub.status.idle": "2020-12-23T00:28:12.979602Z",
     "shell.execute_reply": "2020-12-23T00:28:12.979033Z"
    },
    "papermill": {
     "duration": 0.025431,
     "end_time": "2020-12-23T00:28:12.979725",
     "exception": false,
     "start_time": "2020-12-23T00:28:12.954294",
     "status": "completed"
    },
    "tags": []
   },
   "outputs": [],
   "source": [
    "#Notebook do kaggle iniciado, já contém em diretório a base utilizada\n",
    "#Iniciamos a leitura do arquivo"
   ]
  },
  {
   "cell_type": "code",
   "execution_count": 3,
   "metadata": {
    "_cell_guid": "79c7e3d0-c299-4dcb-8224-4455121ee9b0",
    "_uuid": "d629ff2d2480ee46fbb7e2d37f6b5fab8052498a",
    "execution": {
     "iopub.execute_input": "2020-12-23T00:28:13.021497Z",
     "iopub.status.busy": "2020-12-23T00:28:13.020782Z",
     "iopub.status.idle": "2020-12-23T00:28:17.417036Z",
     "shell.execute_reply": "2020-12-23T00:28:17.417606Z"
    },
    "papermill": {
     "duration": 4.420666,
     "end_time": "2020-12-23T00:28:17.417782",
     "exception": false,
     "start_time": "2020-12-23T00:28:12.997116",
     "status": "completed"
    },
    "tags": []
   },
   "outputs": [],
   "source": [
    "df = pd.read_csv('../input/creditcardfraud/creditcard.csv')"
   ]
  },
  {
   "cell_type": "code",
   "execution_count": 4,
   "metadata": {
    "execution": {
     "iopub.execute_input": "2020-12-23T00:28:17.456058Z",
     "iopub.status.busy": "2020-12-23T00:28:17.455046Z",
     "iopub.status.idle": "2020-12-23T00:28:17.458900Z",
     "shell.execute_reply": "2020-12-23T00:28:17.459394Z"
    },
    "papermill": {
     "duration": 0.02464,
     "end_time": "2020-12-23T00:28:17.459545",
     "exception": false,
     "start_time": "2020-12-23T00:28:17.434905",
     "status": "completed"
    },
    "tags": []
   },
   "outputs": [],
   "source": [
    "#Coletamos algumas informações sobr e a base"
   ]
  },
  {
   "cell_type": "code",
   "execution_count": 5,
   "metadata": {
    "execution": {
     "iopub.execute_input": "2020-12-23T00:28:17.497932Z",
     "iopub.status.busy": "2020-12-23T00:28:17.496966Z",
     "iopub.status.idle": "2020-12-23T00:28:17.557576Z",
     "shell.execute_reply": "2020-12-23T00:28:17.558253Z"
    },
    "papermill": {
     "duration": 0.081785,
     "end_time": "2020-12-23T00:28:17.558471",
     "exception": false,
     "start_time": "2020-12-23T00:28:17.476686",
     "status": "completed"
    },
    "tags": []
   },
   "outputs": [
    {
     "name": "stdout",
     "output_type": "stream",
     "text": [
      "<class 'pandas.core.frame.DataFrame'>\n",
      "RangeIndex: 284807 entries, 0 to 284806\n",
      "Data columns (total 31 columns):\n",
      " #   Column  Non-Null Count   Dtype  \n",
      "---  ------  --------------   -----  \n",
      " 0   Time    284807 non-null  float64\n",
      " 1   V1      284807 non-null  float64\n",
      " 2   V2      284807 non-null  float64\n",
      " 3   V3      284807 non-null  float64\n",
      " 4   V4      284807 non-null  float64\n",
      " 5   V5      284807 non-null  float64\n",
      " 6   V6      284807 non-null  float64\n",
      " 7   V7      284807 non-null  float64\n",
      " 8   V8      284807 non-null  float64\n",
      " 9   V9      284807 non-null  float64\n",
      " 10  V10     284807 non-null  float64\n",
      " 11  V11     284807 non-null  float64\n",
      " 12  V12     284807 non-null  float64\n",
      " 13  V13     284807 non-null  float64\n",
      " 14  V14     284807 non-null  float64\n",
      " 15  V15     284807 non-null  float64\n",
      " 16  V16     284807 non-null  float64\n",
      " 17  V17     284807 non-null  float64\n",
      " 18  V18     284807 non-null  float64\n",
      " 19  V19     284807 non-null  float64\n",
      " 20  V20     284807 non-null  float64\n",
      " 21  V21     284807 non-null  float64\n",
      " 22  V22     284807 non-null  float64\n",
      " 23  V23     284807 non-null  float64\n",
      " 24  V24     284807 non-null  float64\n",
      " 25  V25     284807 non-null  float64\n",
      " 26  V26     284807 non-null  float64\n",
      " 27  V27     284807 non-null  float64\n",
      " 28  V28     284807 non-null  float64\n",
      " 29  Amount  284807 non-null  float64\n",
      " 30  Class   284807 non-null  int64  \n",
      "dtypes: float64(30), int64(1)\n",
      "memory usage: 67.4 MB\n"
     ]
    }
   ],
   "source": [
    "df.info()"
   ]
  },
  {
   "cell_type": "code",
   "execution_count": 6,
   "metadata": {
    "execution": {
     "iopub.execute_input": "2020-12-23T00:28:17.597704Z",
     "iopub.status.busy": "2020-12-23T00:28:17.596950Z",
     "iopub.status.idle": "2020-12-23T00:28:17.600220Z",
     "shell.execute_reply": "2020-12-23T00:28:17.600713Z"
    },
    "papermill": {
     "duration": 0.024469,
     "end_time": "2020-12-23T00:28:17.600872",
     "exception": false,
     "start_time": "2020-12-23T00:28:17.576403",
     "status": "completed"
    },
    "tags": []
   },
   "outputs": [],
   "source": [
    "#Algumas descrições estatísticas da base, seus atributos"
   ]
  },
  {
   "cell_type": "code",
   "execution_count": 7,
   "metadata": {
    "execution": {
     "iopub.execute_input": "2020-12-23T00:28:17.672256Z",
     "iopub.status.busy": "2020-12-23T00:28:17.671563Z",
     "iopub.status.idle": "2020-12-23T00:28:18.098352Z",
     "shell.execute_reply": "2020-12-23T00:28:18.097726Z"
    },
    "papermill": {
     "duration": 0.479687,
     "end_time": "2020-12-23T00:28:18.098471",
     "exception": false,
     "start_time": "2020-12-23T00:28:17.618784",
     "status": "completed"
    },
    "tags": []
   },
   "outputs": [
    {
     "data": {
      "text/html": [
       "<div>\n",
       "<style scoped>\n",
       "    .dataframe tbody tr th:only-of-type {\n",
       "        vertical-align: middle;\n",
       "    }\n",
       "\n",
       "    .dataframe tbody tr th {\n",
       "        vertical-align: top;\n",
       "    }\n",
       "\n",
       "    .dataframe thead th {\n",
       "        text-align: right;\n",
       "    }\n",
       "</style>\n",
       "<table border=\"1\" class=\"dataframe\">\n",
       "  <thead>\n",
       "    <tr style=\"text-align: right;\">\n",
       "      <th></th>\n",
       "      <th>Time</th>\n",
       "      <th>V1</th>\n",
       "      <th>V2</th>\n",
       "      <th>V3</th>\n",
       "      <th>V4</th>\n",
       "      <th>V5</th>\n",
       "      <th>V6</th>\n",
       "      <th>V7</th>\n",
       "      <th>V8</th>\n",
       "      <th>V9</th>\n",
       "      <th>...</th>\n",
       "      <th>V21</th>\n",
       "      <th>V22</th>\n",
       "      <th>V23</th>\n",
       "      <th>V24</th>\n",
       "      <th>V25</th>\n",
       "      <th>V26</th>\n",
       "      <th>V27</th>\n",
       "      <th>V28</th>\n",
       "      <th>Amount</th>\n",
       "      <th>Class</th>\n",
       "    </tr>\n",
       "  </thead>\n",
       "  <tbody>\n",
       "    <tr>\n",
       "      <th>count</th>\n",
       "      <td>284807.000000</td>\n",
       "      <td>2.848070e+05</td>\n",
       "      <td>2.848070e+05</td>\n",
       "      <td>2.848070e+05</td>\n",
       "      <td>2.848070e+05</td>\n",
       "      <td>2.848070e+05</td>\n",
       "      <td>2.848070e+05</td>\n",
       "      <td>2.848070e+05</td>\n",
       "      <td>2.848070e+05</td>\n",
       "      <td>2.848070e+05</td>\n",
       "      <td>...</td>\n",
       "      <td>2.848070e+05</td>\n",
       "      <td>2.848070e+05</td>\n",
       "      <td>2.848070e+05</td>\n",
       "      <td>2.848070e+05</td>\n",
       "      <td>2.848070e+05</td>\n",
       "      <td>2.848070e+05</td>\n",
       "      <td>2.848070e+05</td>\n",
       "      <td>2.848070e+05</td>\n",
       "      <td>284807.000000</td>\n",
       "      <td>284807.000000</td>\n",
       "    </tr>\n",
       "    <tr>\n",
       "      <th>mean</th>\n",
       "      <td>94813.859575</td>\n",
       "      <td>3.919560e-15</td>\n",
       "      <td>5.688174e-16</td>\n",
       "      <td>-8.769071e-15</td>\n",
       "      <td>2.782312e-15</td>\n",
       "      <td>-1.552563e-15</td>\n",
       "      <td>2.010663e-15</td>\n",
       "      <td>-1.694249e-15</td>\n",
       "      <td>-1.927028e-16</td>\n",
       "      <td>-3.137024e-15</td>\n",
       "      <td>...</td>\n",
       "      <td>1.537294e-16</td>\n",
       "      <td>7.959909e-16</td>\n",
       "      <td>5.367590e-16</td>\n",
       "      <td>4.458112e-15</td>\n",
       "      <td>1.453003e-15</td>\n",
       "      <td>1.699104e-15</td>\n",
       "      <td>-3.660161e-16</td>\n",
       "      <td>-1.206049e-16</td>\n",
       "      <td>88.349619</td>\n",
       "      <td>0.001727</td>\n",
       "    </tr>\n",
       "    <tr>\n",
       "      <th>std</th>\n",
       "      <td>47488.145955</td>\n",
       "      <td>1.958696e+00</td>\n",
       "      <td>1.651309e+00</td>\n",
       "      <td>1.516255e+00</td>\n",
       "      <td>1.415869e+00</td>\n",
       "      <td>1.380247e+00</td>\n",
       "      <td>1.332271e+00</td>\n",
       "      <td>1.237094e+00</td>\n",
       "      <td>1.194353e+00</td>\n",
       "      <td>1.098632e+00</td>\n",
       "      <td>...</td>\n",
       "      <td>7.345240e-01</td>\n",
       "      <td>7.257016e-01</td>\n",
       "      <td>6.244603e-01</td>\n",
       "      <td>6.056471e-01</td>\n",
       "      <td>5.212781e-01</td>\n",
       "      <td>4.822270e-01</td>\n",
       "      <td>4.036325e-01</td>\n",
       "      <td>3.300833e-01</td>\n",
       "      <td>250.120109</td>\n",
       "      <td>0.041527</td>\n",
       "    </tr>\n",
       "    <tr>\n",
       "      <th>min</th>\n",
       "      <td>0.000000</td>\n",
       "      <td>-5.640751e+01</td>\n",
       "      <td>-7.271573e+01</td>\n",
       "      <td>-4.832559e+01</td>\n",
       "      <td>-5.683171e+00</td>\n",
       "      <td>-1.137433e+02</td>\n",
       "      <td>-2.616051e+01</td>\n",
       "      <td>-4.355724e+01</td>\n",
       "      <td>-7.321672e+01</td>\n",
       "      <td>-1.343407e+01</td>\n",
       "      <td>...</td>\n",
       "      <td>-3.483038e+01</td>\n",
       "      <td>-1.093314e+01</td>\n",
       "      <td>-4.480774e+01</td>\n",
       "      <td>-2.836627e+00</td>\n",
       "      <td>-1.029540e+01</td>\n",
       "      <td>-2.604551e+00</td>\n",
       "      <td>-2.256568e+01</td>\n",
       "      <td>-1.543008e+01</td>\n",
       "      <td>0.000000</td>\n",
       "      <td>0.000000</td>\n",
       "    </tr>\n",
       "    <tr>\n",
       "      <th>25%</th>\n",
       "      <td>54201.500000</td>\n",
       "      <td>-9.203734e-01</td>\n",
       "      <td>-5.985499e-01</td>\n",
       "      <td>-8.903648e-01</td>\n",
       "      <td>-8.486401e-01</td>\n",
       "      <td>-6.915971e-01</td>\n",
       "      <td>-7.682956e-01</td>\n",
       "      <td>-5.540759e-01</td>\n",
       "      <td>-2.086297e-01</td>\n",
       "      <td>-6.430976e-01</td>\n",
       "      <td>...</td>\n",
       "      <td>-2.283949e-01</td>\n",
       "      <td>-5.423504e-01</td>\n",
       "      <td>-1.618463e-01</td>\n",
       "      <td>-3.545861e-01</td>\n",
       "      <td>-3.171451e-01</td>\n",
       "      <td>-3.269839e-01</td>\n",
       "      <td>-7.083953e-02</td>\n",
       "      <td>-5.295979e-02</td>\n",
       "      <td>5.600000</td>\n",
       "      <td>0.000000</td>\n",
       "    </tr>\n",
       "    <tr>\n",
       "      <th>50%</th>\n",
       "      <td>84692.000000</td>\n",
       "      <td>1.810880e-02</td>\n",
       "      <td>6.548556e-02</td>\n",
       "      <td>1.798463e-01</td>\n",
       "      <td>-1.984653e-02</td>\n",
       "      <td>-5.433583e-02</td>\n",
       "      <td>-2.741871e-01</td>\n",
       "      <td>4.010308e-02</td>\n",
       "      <td>2.235804e-02</td>\n",
       "      <td>-5.142873e-02</td>\n",
       "      <td>...</td>\n",
       "      <td>-2.945017e-02</td>\n",
       "      <td>6.781943e-03</td>\n",
       "      <td>-1.119293e-02</td>\n",
       "      <td>4.097606e-02</td>\n",
       "      <td>1.659350e-02</td>\n",
       "      <td>-5.213911e-02</td>\n",
       "      <td>1.342146e-03</td>\n",
       "      <td>1.124383e-02</td>\n",
       "      <td>22.000000</td>\n",
       "      <td>0.000000</td>\n",
       "    </tr>\n",
       "    <tr>\n",
       "      <th>75%</th>\n",
       "      <td>139320.500000</td>\n",
       "      <td>1.315642e+00</td>\n",
       "      <td>8.037239e-01</td>\n",
       "      <td>1.027196e+00</td>\n",
       "      <td>7.433413e-01</td>\n",
       "      <td>6.119264e-01</td>\n",
       "      <td>3.985649e-01</td>\n",
       "      <td>5.704361e-01</td>\n",
       "      <td>3.273459e-01</td>\n",
       "      <td>5.971390e-01</td>\n",
       "      <td>...</td>\n",
       "      <td>1.863772e-01</td>\n",
       "      <td>5.285536e-01</td>\n",
       "      <td>1.476421e-01</td>\n",
       "      <td>4.395266e-01</td>\n",
       "      <td>3.507156e-01</td>\n",
       "      <td>2.409522e-01</td>\n",
       "      <td>9.104512e-02</td>\n",
       "      <td>7.827995e-02</td>\n",
       "      <td>77.165000</td>\n",
       "      <td>0.000000</td>\n",
       "    </tr>\n",
       "    <tr>\n",
       "      <th>max</th>\n",
       "      <td>172792.000000</td>\n",
       "      <td>2.454930e+00</td>\n",
       "      <td>2.205773e+01</td>\n",
       "      <td>9.382558e+00</td>\n",
       "      <td>1.687534e+01</td>\n",
       "      <td>3.480167e+01</td>\n",
       "      <td>7.330163e+01</td>\n",
       "      <td>1.205895e+02</td>\n",
       "      <td>2.000721e+01</td>\n",
       "      <td>1.559499e+01</td>\n",
       "      <td>...</td>\n",
       "      <td>2.720284e+01</td>\n",
       "      <td>1.050309e+01</td>\n",
       "      <td>2.252841e+01</td>\n",
       "      <td>4.584549e+00</td>\n",
       "      <td>7.519589e+00</td>\n",
       "      <td>3.517346e+00</td>\n",
       "      <td>3.161220e+01</td>\n",
       "      <td>3.384781e+01</td>\n",
       "      <td>25691.160000</td>\n",
       "      <td>1.000000</td>\n",
       "    </tr>\n",
       "  </tbody>\n",
       "</table>\n",
       "<p>8 rows × 31 columns</p>\n",
       "</div>"
      ],
      "text/plain": [
       "                Time            V1            V2            V3            V4  \\\n",
       "count  284807.000000  2.848070e+05  2.848070e+05  2.848070e+05  2.848070e+05   \n",
       "mean    94813.859575  3.919560e-15  5.688174e-16 -8.769071e-15  2.782312e-15   \n",
       "std     47488.145955  1.958696e+00  1.651309e+00  1.516255e+00  1.415869e+00   \n",
       "min         0.000000 -5.640751e+01 -7.271573e+01 -4.832559e+01 -5.683171e+00   \n",
       "25%     54201.500000 -9.203734e-01 -5.985499e-01 -8.903648e-01 -8.486401e-01   \n",
       "50%     84692.000000  1.810880e-02  6.548556e-02  1.798463e-01 -1.984653e-02   \n",
       "75%    139320.500000  1.315642e+00  8.037239e-01  1.027196e+00  7.433413e-01   \n",
       "max    172792.000000  2.454930e+00  2.205773e+01  9.382558e+00  1.687534e+01   \n",
       "\n",
       "                 V5            V6            V7            V8            V9  \\\n",
       "count  2.848070e+05  2.848070e+05  2.848070e+05  2.848070e+05  2.848070e+05   \n",
       "mean  -1.552563e-15  2.010663e-15 -1.694249e-15 -1.927028e-16 -3.137024e-15   \n",
       "std    1.380247e+00  1.332271e+00  1.237094e+00  1.194353e+00  1.098632e+00   \n",
       "min   -1.137433e+02 -2.616051e+01 -4.355724e+01 -7.321672e+01 -1.343407e+01   \n",
       "25%   -6.915971e-01 -7.682956e-01 -5.540759e-01 -2.086297e-01 -6.430976e-01   \n",
       "50%   -5.433583e-02 -2.741871e-01  4.010308e-02  2.235804e-02 -5.142873e-02   \n",
       "75%    6.119264e-01  3.985649e-01  5.704361e-01  3.273459e-01  5.971390e-01   \n",
       "max    3.480167e+01  7.330163e+01  1.205895e+02  2.000721e+01  1.559499e+01   \n",
       "\n",
       "       ...           V21           V22           V23           V24  \\\n",
       "count  ...  2.848070e+05  2.848070e+05  2.848070e+05  2.848070e+05   \n",
       "mean   ...  1.537294e-16  7.959909e-16  5.367590e-16  4.458112e-15   \n",
       "std    ...  7.345240e-01  7.257016e-01  6.244603e-01  6.056471e-01   \n",
       "min    ... -3.483038e+01 -1.093314e+01 -4.480774e+01 -2.836627e+00   \n",
       "25%    ... -2.283949e-01 -5.423504e-01 -1.618463e-01 -3.545861e-01   \n",
       "50%    ... -2.945017e-02  6.781943e-03 -1.119293e-02  4.097606e-02   \n",
       "75%    ...  1.863772e-01  5.285536e-01  1.476421e-01  4.395266e-01   \n",
       "max    ...  2.720284e+01  1.050309e+01  2.252841e+01  4.584549e+00   \n",
       "\n",
       "                V25           V26           V27           V28         Amount  \\\n",
       "count  2.848070e+05  2.848070e+05  2.848070e+05  2.848070e+05  284807.000000   \n",
       "mean   1.453003e-15  1.699104e-15 -3.660161e-16 -1.206049e-16      88.349619   \n",
       "std    5.212781e-01  4.822270e-01  4.036325e-01  3.300833e-01     250.120109   \n",
       "min   -1.029540e+01 -2.604551e+00 -2.256568e+01 -1.543008e+01       0.000000   \n",
       "25%   -3.171451e-01 -3.269839e-01 -7.083953e-02 -5.295979e-02       5.600000   \n",
       "50%    1.659350e-02 -5.213911e-02  1.342146e-03  1.124383e-02      22.000000   \n",
       "75%    3.507156e-01  2.409522e-01  9.104512e-02  7.827995e-02      77.165000   \n",
       "max    7.519589e+00  3.517346e+00  3.161220e+01  3.384781e+01   25691.160000   \n",
       "\n",
       "               Class  \n",
       "count  284807.000000  \n",
       "mean        0.001727  \n",
       "std         0.041527  \n",
       "min         0.000000  \n",
       "25%         0.000000  \n",
       "50%         0.000000  \n",
       "75%         0.000000  \n",
       "max         1.000000  \n",
       "\n",
       "[8 rows x 31 columns]"
      ]
     },
     "execution_count": 7,
     "metadata": {},
     "output_type": "execute_result"
    }
   ],
   "source": [
    "df.describe()"
   ]
  },
  {
   "cell_type": "code",
   "execution_count": 8,
   "metadata": {
    "execution": {
     "iopub.execute_input": "2020-12-23T00:28:18.142400Z",
     "iopub.status.busy": "2020-12-23T00:28:18.141277Z",
     "iopub.status.idle": "2020-12-23T00:28:18.145240Z",
     "shell.execute_reply": "2020-12-23T00:28:18.144598Z"
    },
    "papermill": {
     "duration": 0.027562,
     "end_time": "2020-12-23T00:28:18.145377",
     "exception": false,
     "start_time": "2020-12-23T00:28:18.117815",
     "status": "completed"
    },
    "tags": []
   },
   "outputs": [],
   "source": [
    "#Importação de mais libs"
   ]
  },
  {
   "cell_type": "code",
   "execution_count": 9,
   "metadata": {
    "execution": {
     "iopub.execute_input": "2020-12-23T00:28:18.188419Z",
     "iopub.status.busy": "2020-12-23T00:28:18.187539Z",
     "iopub.status.idle": "2020-12-23T00:28:19.293397Z",
     "shell.execute_reply": "2020-12-23T00:28:19.292651Z"
    },
    "papermill": {
     "duration": 1.129283,
     "end_time": "2020-12-23T00:28:19.293522",
     "exception": false,
     "start_time": "2020-12-23T00:28:18.164239",
     "status": "completed"
    },
    "tags": []
   },
   "outputs": [],
   "source": [
    "import seaborn as sn\n",
    "import matplotlib.pyplot as plt"
   ]
  },
  {
   "cell_type": "code",
   "execution_count": 10,
   "metadata": {
    "execution": {
     "iopub.execute_input": "2020-12-23T00:28:19.337284Z",
     "iopub.status.busy": "2020-12-23T00:28:19.336235Z",
     "iopub.status.idle": "2020-12-23T00:28:19.339601Z",
     "shell.execute_reply": "2020-12-23T00:28:19.338947Z"
    },
    "papermill": {
     "duration": 0.02679,
     "end_time": "2020-12-23T00:28:19.339714",
     "exception": false,
     "start_time": "2020-12-23T00:28:19.312924",
     "status": "completed"
    },
    "tags": []
   },
   "outputs": [],
   "source": [
    "#Historgrama dos atributos"
   ]
  },
  {
   "cell_type": "code",
   "execution_count": 11,
   "metadata": {
    "execution": {
     "iopub.execute_input": "2020-12-23T00:28:19.387466Z",
     "iopub.status.busy": "2020-12-23T00:28:19.386762Z",
     "iopub.status.idle": "2020-12-23T00:28:24.335679Z",
     "shell.execute_reply": "2020-12-23T00:28:24.336489Z"
    },
    "papermill": {
     "duration": 4.9742,
     "end_time": "2020-12-23T00:28:24.336685",
     "exception": false,
     "start_time": "2020-12-23T00:28:19.362485",
     "status": "completed"
    },
    "tags": []
   },
   "outputs": [
    {
     "data": {
      "image/png": "[encoded data removed]",
      "text/plain": [
       "<Figure size 1440x1440 with 36 Axes>"
      ]
     },
     "metadata": {
      "needs_background": "light"
     },
     "output_type": "display_data"
    }
   ],
   "source": [
    "df.hist(figsize = (20, 20))\n",
    "plt.show()"
   ]
  },
  {
   "cell_type": "code",
   "execution_count": 12,
   "metadata": {
    "execution": {
     "iopub.execute_input": "2020-12-23T00:28:24.390716Z",
     "iopub.status.busy": "2020-12-23T00:28:24.389795Z",
     "iopub.status.idle": "2020-12-23T00:28:24.393170Z",
     "shell.execute_reply": "2020-12-23T00:28:24.392537Z"
    },
    "papermill": {
     "duration": 0.03009,
     "end_time": "2020-12-23T00:28:24.393279",
     "exception": false,
     "start_time": "2020-12-23T00:28:24.363189",
     "status": "completed"
    },
    "tags": []
   },
   "outputs": [],
   "source": [
    "#Verificação da existencia de dados faltantes ou Na."
   ]
  },
  {
   "cell_type": "code",
   "execution_count": 13,
   "metadata": {
    "execution": {
     "iopub.execute_input": "2020-12-23T00:28:24.444541Z",
     "iopub.status.busy": "2020-12-23T00:28:24.443119Z",
     "iopub.status.idle": "2020-12-23T00:28:24.465252Z",
     "shell.execute_reply": "2020-12-23T00:28:24.465861Z"
    },
    "papermill": {
     "duration": 0.051017,
     "end_time": "2020-12-23T00:28:24.466006",
     "exception": false,
     "start_time": "2020-12-23T00:28:24.414989",
     "status": "completed"
    },
    "tags": []
   },
   "outputs": [
    {
     "data": {
      "text/plain": [
       "False"
      ]
     },
     "execution_count": 13,
     "metadata": {},
     "output_type": "execute_result"
    }
   ],
   "source": [
    "df.isnull().values.any()"
   ]
  },
  {
   "cell_type": "code",
   "execution_count": 14,
   "metadata": {
    "execution": {
     "iopub.execute_input": "2020-12-23T00:28:24.515095Z",
     "iopub.status.busy": "2020-12-23T00:28:24.514039Z",
     "iopub.status.idle": "2020-12-23T00:28:24.518177Z",
     "shell.execute_reply": "2020-12-23T00:28:24.518810Z"
    },
    "papermill": {
     "duration": 0.030725,
     "end_time": "2020-12-23T00:28:24.518952",
     "exception": false,
     "start_time": "2020-12-23T00:28:24.488227",
     "status": "completed"
    },
    "tags": []
   },
   "outputs": [],
   "source": [
    "#Identificação de valores de transição com erros de leitura como descrito no exercício"
   ]
  },
  {
   "cell_type": "code",
   "execution_count": 15,
   "metadata": {
    "execution": {
     "iopub.execute_input": "2020-12-23T00:28:24.569715Z",
     "iopub.status.busy": "2020-12-23T00:28:24.568877Z",
     "iopub.status.idle": "2020-12-23T00:28:24.602438Z",
     "shell.execute_reply": "2020-12-23T00:28:24.601714Z"
    },
    "papermill": {
     "duration": 0.061113,
     "end_time": "2020-12-23T00:28:24.602555",
     "exception": false,
     "start_time": "2020-12-23T00:28:24.541442",
     "status": "completed"
    },
    "tags": []
   },
   "outputs": [
    {
     "name": "stdout",
     "output_type": "stream",
     "text": [
      "Valores zerados: 1825\n"
     ]
    }
   ],
   "source": [
    "Zerado = df[df.Amount == 0]\n",
    "print(\"Valores zerados: {}\". format(len(Zerado)))"
   ]
  },
  {
   "cell_type": "code",
   "execution_count": 16,
   "metadata": {
    "execution": {
     "iopub.execute_input": "2020-12-23T00:28:24.652959Z",
     "iopub.status.busy": "2020-12-23T00:28:24.651907Z",
     "iopub.status.idle": "2020-12-23T00:28:24.655747Z",
     "shell.execute_reply": "2020-12-23T00:28:24.656199Z"
    },
    "papermill": {
     "duration": 0.030543,
     "end_time": "2020-12-23T00:28:24.656379",
     "exception": false,
     "start_time": "2020-12-23T00:28:24.625836",
     "status": "completed"
    },
    "tags": []
   },
   "outputs": [],
   "source": [
    "#Verificação da distribuição das classes"
   ]
  },
  {
   "cell_type": "code",
   "execution_count": 17,
   "metadata": {
    "execution": {
     "iopub.execute_input": "2020-12-23T00:28:24.707540Z",
     "iopub.status.busy": "2020-12-23T00:28:24.706470Z",
     "iopub.status.idle": "2020-12-23T00:28:24.749246Z",
     "shell.execute_reply": "2020-12-23T00:28:24.749778Z"
    },
    "papermill": {
     "duration": 0.070176,
     "end_time": "2020-12-23T00:28:24.749931",
     "exception": false,
     "start_time": "2020-12-23T00:28:24.679755",
     "status": "completed"
    },
    "tags": []
   },
   "outputs": [
    {
     "name": "stdout",
     "output_type": "stream",
     "text": [
      "Fraudes: 492\n",
      "Validos: 284315\n"
     ]
    }
   ],
   "source": [
    "Fraude = df[df['Class'] == 1]\n",
    "Valido = df[df['Class'] == 0]\n",
    "print(\"Fraudes: {}\". format(len(Fraude)))\n",
    "print(\"Validos: {}\". format(len(Valido)))"
   ]
  },
  {
   "cell_type": "code",
   "execution_count": 18,
   "metadata": {
    "execution": {
     "iopub.execute_input": "2020-12-23T00:28:24.804428Z",
     "iopub.status.busy": "2020-12-23T00:28:24.803724Z",
     "iopub.status.idle": "2020-12-23T00:28:24.807124Z",
     "shell.execute_reply": "2020-12-23T00:28:24.806392Z"
    },
    "papermill": {
     "duration": 0.032639,
     "end_time": "2020-12-23T00:28:24.807249",
     "exception": false,
     "start_time": "2020-12-23T00:28:24.774610",
     "status": "completed"
    },
    "tags": []
   },
   "outputs": [],
   "source": [
    "#Verificação do impacto dos valores zerados nas bases"
   ]
  },
  {
   "cell_type": "code",
   "execution_count": 19,
   "metadata": {
    "execution": {
     "iopub.execute_input": "2020-12-23T00:28:24.865202Z",
     "iopub.status.busy": "2020-12-23T00:28:24.864168Z",
     "iopub.status.idle": "2020-12-23T00:28:24.871716Z",
     "shell.execute_reply": "2020-12-23T00:28:24.870970Z"
    },
    "papermill": {
     "duration": 0.038652,
     "end_time": "2020-12-23T00:28:24.871856",
     "exception": false,
     "start_time": "2020-12-23T00:28:24.833204",
     "status": "completed"
    },
    "tags": []
   },
   "outputs": [
    {
     "name": "stdout",
     "output_type": "stream",
     "text": [
      "Fração de fraudes com valores zerados 5.49%\n"
     ]
    }
   ],
   "source": [
    "Fraude_zerada = len(Zerado[Zerado['Class'] == 1])/len(df[df['Class'] == 1])\n",
    "print(\"Fração de fraudes com valores zerados {:.2%}\". format(Fraude_zerada))"
   ]
  },
  {
   "cell_type": "code",
   "execution_count": 20,
   "metadata": {
    "execution": {
     "iopub.execute_input": "2020-12-23T00:28:24.928412Z",
     "iopub.status.busy": "2020-12-23T00:28:24.927712Z",
     "iopub.status.idle": "2020-12-23T00:28:24.932706Z",
     "shell.execute_reply": "2020-12-23T00:28:24.931670Z"
    },
    "papermill": {
     "duration": 0.036274,
     "end_time": "2020-12-23T00:28:24.932909",
     "exception": false,
     "start_time": "2020-12-23T00:28:24.896635",
     "status": "completed"
    },
    "tags": []
   },
   "outputs": [
    {
     "name": "stdout",
     "output_type": "stream",
     "text": [
      "122.21132113821133\n"
     ]
    }
   ],
   "source": [
    "Media_fraudes_zeradas = Fraude['Amount'].mean(skipna=True)\n",
    "print (Media_fraudes_zeradas)"
   ]
  },
  {
   "cell_type": "code",
   "execution_count": 21,
   "metadata": {
    "execution": {
     "iopub.execute_input": "2020-12-23T00:28:24.994385Z",
     "iopub.status.busy": "2020-12-23T00:28:24.993691Z",
     "iopub.status.idle": "2020-12-23T00:28:24.999888Z",
     "shell.execute_reply": "2020-12-23T00:28:25.000677Z"
    },
    "papermill": {
     "duration": 0.040882,
     "end_time": "2020-12-23T00:28:25.000836",
     "exception": false,
     "start_time": "2020-12-23T00:28:24.959954",
     "status": "completed"
    },
    "tags": []
   },
   "outputs": [
    {
     "name": "stdout",
     "output_type": "stream",
     "text": [
      "Fraudes: 492\n"
     ]
    },
    {
     "name": "stderr",
     "output_type": "stream",
     "text": [
      "/opt/conda/lib/python3.7/site-packages/ipykernel_launcher.py:1: SettingWithCopyWarning: \n",
      "A value is trying to be set on a copy of a slice from a DataFrame.\n",
      "Try using .loc[row_indexer,col_indexer] = value instead\n",
      "\n",
      "See the caveats in the documentation: https://pandas.pydata.org/pandas-docs/stable/user_guide/indexing.html#returning-a-view-versus-a-copy\n",
      "  \"\"\"Entry point for launching an IPython kernel.\n"
     ]
    }
   ],
   "source": [
    "Fraude['Amount'] = Fraude.Amount.mask(Fraude.Amount == 0,Media_fraudes_zeradas)\n",
    "Fraude.head()\n",
    "print(\"Fraudes: {}\". format(len(Fraude)))"
   ]
  },
  {
   "cell_type": "code",
   "execution_count": 22,
   "metadata": {
    "execution": {
     "iopub.execute_input": "2020-12-23T00:28:25.060732Z",
     "iopub.status.busy": "2020-12-23T00:28:25.058003Z",
     "iopub.status.idle": "2020-12-23T00:28:25.100772Z",
     "shell.execute_reply": "2020-12-23T00:28:25.099932Z"
    },
    "papermill": {
     "duration": 0.074452,
     "end_time": "2020-12-23T00:28:25.100906",
     "exception": false,
     "start_time": "2020-12-23T00:28:25.026454",
     "status": "completed"
    },
    "tags": []
   },
   "outputs": [
    {
     "name": "stdout",
     "output_type": "stream",
     "text": [
      "Fração de validas transações com valores zerados 0.63%\n"
     ]
    }
   ],
   "source": [
    "Valido_zerada = len(Zerado[Zerado['Class'] == 0])/len(df[df['Class'] == 0])\n",
    "print(\"Fração de validas transações com valores zerados {:.2%}\". format(Valido_zerada))"
   ]
  },
  {
   "cell_type": "code",
   "execution_count": 23,
   "metadata": {
    "execution": {
     "iopub.execute_input": "2020-12-23T00:28:25.161551Z",
     "iopub.status.busy": "2020-12-23T00:28:25.160417Z",
     "iopub.status.idle": "2020-12-23T00:28:25.196765Z",
     "shell.execute_reply": "2020-12-23T00:28:25.197303Z"
    },
    "papermill": {
     "duration": 0.069428,
     "end_time": "2020-12-23T00:28:25.197466",
     "exception": false,
     "start_time": "2020-12-23T00:28:25.128038",
     "status": "completed"
    },
    "tags": []
   },
   "outputs": [
    {
     "name": "stdout",
     "output_type": "stream",
     "text": [
      "Validos: 282517\n"
     ]
    }
   ],
   "source": [
    "Valido = Valido[Valido['Amount'] !=0]\n",
    "print(\"Validos: {}\". format(len(Valido)))"
   ]
  },
  {
   "cell_type": "code",
   "execution_count": 24,
   "metadata": {
    "execution": {
     "iopub.execute_input": "2020-12-23T00:28:25.254788Z",
     "iopub.status.busy": "2020-12-23T00:28:25.253662Z",
     "iopub.status.idle": "2020-12-23T00:28:25.260348Z",
     "shell.execute_reply": "2020-12-23T00:28:25.260886Z"
    },
    "papermill": {
     "duration": 0.03711,
     "end_time": "2020-12-23T00:28:25.261026",
     "exception": false,
     "start_time": "2020-12-23T00:28:25.223916",
     "status": "completed"
    },
    "tags": []
   },
   "outputs": [
    {
     "name": "stdout",
     "output_type": "stream",
     "text": [
      "Fração de fraudes 0.174%\n"
     ]
    }
   ],
   "source": [
    "Fracao = len(Fraude)/float(len(Valido))\n",
    "print(\"Fração de fraudes {:.3%}\". format(Fracao))"
   ]
  },
  {
   "cell_type": "code",
   "execution_count": null,
   "metadata": {
    "papermill": {
     "duration": 0.026975,
     "end_time": "2020-12-23T00:28:25.314966",
     "exception": false,
     "start_time": "2020-12-23T00:28:25.287991",
     "status": "completed"
    },
    "tags": []
   },
   "outputs": [],
   "source": []
  }
 ],
 "metadata": {
  "kernelspec": {
   "display_name": "Python 3",
   "language": "python",
   "name": "python3"
  },
  "language_info": {
   "codemirror_mode": {
    "name": "ipython",
    "version": 3
   },
   "file_extension": ".py",
   "mimetype": "text/x-python",
   "name": "python",
   "nbconvert_exporter": "python",
   "pygments_lexer": "ipython3",
   "version": "3.7.6"
  },
  "papermill": {
   "duration": 17.489878,
   "end_time": "2020-12-23T00:28:25.450132",
   "environment_variables": {},
   "exception": null,
   "input_path": "__notebook__.ipynb",
   "output_path": "__notebook__.ipynb",
   "parameters": {},
   "start_time": "2020-12-23T00:28:07.960254",
   "version": "2.1.0"
  }
 },
 "nbformat": 4,
 "nbformat_minor": 4
}
